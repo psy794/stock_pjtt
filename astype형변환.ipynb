{
  "nbformat": 4,
  "nbformat_minor": 0,
  "metadata": {
    "colab": {
      "provenance": [],
      "authorship_tag": "ABX9TyOsXWDJLQWvQ9RcLqwsEGJa",
      "include_colab_link": true
    },
    "kernelspec": {
      "name": "python3",
      "display_name": "Python 3"
    },
    "language_info": {
      "name": "python"
    }
  },
  "cells": [
    {
      "cell_type": "markdown",
      "metadata": {
        "id": "view-in-github",
        "colab_type": "text"
      },
      "source": [
        "<a href=\"https://colab.research.google.com/github/psy794/stock_pjtt/blob/master/astype%ED%98%95%EB%B3%80%ED%99%98.ipynb\" target=\"_parent\"><img src=\"https://colab.research.google.com/assets/colab-badge.svg\" alt=\"Open In Colab\"/></a>"
      ]
    },
    {
      "cell_type": "code",
      "source": [
        "from google.colab import drive\n",
        "drive.mount('/content/drive')"
      ],
      "metadata": {
        "colab": {
          "base_uri": "https://localhost:8080/"
        },
        "id": "WzJZRfCvy-St",
        "outputId": "fc562b22-b445-4cd2-96f0-386abe68a24f"
      },
      "execution_count": 2,
      "outputs": [
        {
          "output_type": "stream",
          "name": "stdout",
          "text": [
            "Mounted at /content/drive\n"
          ]
        }
      ]
    },
    {
      "cell_type": "code",
      "execution_count": 6,
      "metadata": {
        "id": "UJLGxkMyyjX8"
      },
      "outputs": [],
      "source": [
        "import pickle\n",
        "import numpy as np\n",
        "\n",
        "# 저장된 pickle 파일 불러오기\n",
        "result_try1 = pickle.load(open('/content/drive/MyDrive/Colab Notebooks/result_try1.pkl', 'rb'))"
      ]
    },
    {
      "cell_type": "code",
      "source": [
        "result_try1.dtypes"
      ],
      "metadata": {
        "colab": {
          "base_uri": "https://localhost:8080/"
        },
        "id": "VsjAowb9yr8s",
        "outputId": "16324e33-2ba3-4a0d-8989-6fc7f2fac3ae"
      },
      "execution_count": 7,
      "outputs": [
        {
          "output_type": "execute_result",
          "data": {
            "text/plain": [
              "날짜                              datetime64[ns]\n",
              "종목코드                                    object\n",
              "기업코드                                    object\n",
              "시가                                       int32\n",
              "고가                                       int32\n",
              "저가                                       int32\n",
              "종가                                       int32\n",
              "거래량                                      int32\n",
              "거래대금                                     int64\n",
              "등락률                                    float32\n",
              "Close_mv5                              float64\n",
              "Close_mv10                             float64\n",
              "Close_mv20                             float64\n",
              "OBV                                      int64\n",
              "OBV_EMA                                float64\n",
              "sse_composite_index                    float64\n",
              "csi300_index                           float64\n",
              "usdtocny                               float64\n",
              "eurtousd                               float64\n",
              "msci_emerging                          float64\n",
              "usdtoaud                               float64\n",
              "usdtojpy                               float64\n",
              "usdtokrw                               float64\n",
              "dow                                    float64\n",
              "snp500                                 float64\n",
              "nasdaq                                 float64\n",
              "semicon_index                          float64\n",
              "euro50                                 float64\n",
              "us10y_tsy                              float64\n",
              "fast_k                                 float64\n",
              "fast_d                                 float64\n",
              "시가총액                                     int64\n",
              "slow_k                                 float64\n",
              "slow_d                                 float64\n",
              "유동자산                                    object\n",
              "현금및현금성자산                                object\n",
              "기타유동자산                                  object\n",
              "비유동자산                                   object\n",
              "유형자산                                    object\n",
              "무형자산                                    object\n",
              "자산총계                                    object\n",
              "유동부채                                    object\n",
              "기타유동부채                                  object\n",
              "비유동부채                                   object\n",
              "부채총계                                    object\n",
              "자본금                                     object\n",
              "자본총계                                    object\n",
              "금융수익                                    object\n",
              "무형자산의 취득                                object\n",
              "기초자본별도재무제표 [member]                     object\n",
              "기초자본자본 [member]|자본금 [member]            object\n",
              "기말자본별도재무제표 [member]                     object\n",
              "기말자본자본 [member]|자본금 [member]            object\n",
              "dtype: object"
            ]
          },
          "metadata": {},
          "execution_count": 7
        }
      ]
    },
    {
      "cell_type": "markdown",
      "source": [
        "###float64의 문제와, 숫자형인데 object로 들어가서 사용못하는 문제 해결을 위해 astype으로 형변환"
      ],
      "metadata": {
        "id": "Ojj_aRbpyshH"
      }
    },
    {
      "cell_type": "code",
      "source": [
        "# object 타입들 int로 바꾸기 (종목코드, 기업코드 제외)\n",
        "#NaN 값을 가진 열을 int로 변환하려면 해당 NaN 값을 다른 값으로 대체해야 함\n",
        "#NaN 값을 0으로 대체한 후 int로 변환하는 수정된 코드\n",
        "\n",
        "# result_try1 데이터프레임에서 종목코드와 기업코드를 제외한 열 선택\n",
        "selected_columns = result_try1.select_dtypes(include=['object']).columns.drop(['종목코드', '기업코드'])\n",
        "\n",
        "# 빈 값을 NaN으로 대체\n",
        "result_try1[selected_columns] = result_try1[selected_columns].replace('', np.nan)\n",
        "\n",
        "# NaN 값을 0으로 대체\n",
        "result_try1[selected_columns] = result_try1[selected_columns].fillna(0)\n",
        "\n",
        "# 선택된 열을 int 타입으로 변환\n",
        "result_try1[selected_columns] = result_try1[selected_columns].astype(int)\n"
      ],
      "metadata": {
        "id": "VBHFk8_qyzlQ"
      },
      "execution_count": 8,
      "outputs": []
    },
    {
      "cell_type": "code",
      "source": [
        "result_try1['등락률'] = result_try1['등락률'].astype(np.float32)\n",
        "result_try1['Close_mv5'] = result_try1['Close_mv5'].astype(np.float32)\n",
        "result_try1['Close_mv10'] = result_try1['Close_mv10'].astype(np.float32)\n",
        "result_try1['Close_mv20'] = result_try1['Close_mv20'].astype(np.float32)\n",
        "result_try1['OBV_EMA'] = result_try1['OBV_EMA'].astype(np.float32)\n",
        "result_try1['sse_composite_index'] = result_try1['sse_composite_index'].astype(np.float32)\n",
        "result_try1['csi300_index'] = result_try1['csi300_index'].astype(np.float32)\n",
        "result_try1['usdtocny'] = result_try1['usdtocny'].astype(np.float32)\n",
        "result_try1['eurtousd'] = result_try1['eurtousd'].astype(np.float32)\n",
        "result_try1['msci_emerging'] = result_try1['msci_emerging'].astype(np.float32)\n",
        "result_try1['usdtoaud'] = result_try1['usdtoaud'].astype(np.float32)\n",
        "result_try1['usdtojpy'] = result_try1['usdtojpy'].astype(np.float32)\n",
        "result_try1['usdtokrw'] = result_try1['usdtokrw'].astype(np.float32)\n",
        "result_try1['dow'] = result_try1['dow'].astype(np.float32)\n",
        "result_try1['snp500'] = result_try1['snp500'].astype(np.float32)\n",
        "result_try1['nasdaq'] = result_try1['nasdaq'].astype(np.float32)\n",
        "result_try1['semicon_index'] = result_try1['semicon_index'].astype(np.float32)\n",
        "result_try1['euro50'] = result_try1['euro50'].astype(np.float32)\n",
        "result_try1['us10y_tsy'] = result_try1['us10y_tsy'].astype(np.float32)\n",
        "result_try1['fast_k'] = result_try1['fast_k'].astype(np.float32)\n",
        "result_try1['fast_d'] = result_try1['fast_d'].astype(np.float32)\n",
        "result_try1['slow_k'] = result_try1['slow_k'].astype(np.float32)\n",
        "result_try1['slow_d'] = result_try1['slow_d'].astype(np.float32)\n"
      ],
      "metadata": {
        "id": "O8xeOAwvy1ca"
      },
      "execution_count": 9,
      "outputs": []
    },
    {
      "cell_type": "code",
      "source": [
        "result_try1.dtypes"
      ],
      "metadata": {
        "colab": {
          "base_uri": "https://localhost:8080/"
        },
        "id": "Uws0YklSy23q",
        "outputId": "dfe550ed-117c-461e-ccaf-d9e418a59a7f"
      },
      "execution_count": 10,
      "outputs": [
        {
          "output_type": "execute_result",
          "data": {
            "text/plain": [
              "날짜                              datetime64[ns]\n",
              "종목코드                                    object\n",
              "기업코드                                    object\n",
              "시가                                       int32\n",
              "고가                                       int32\n",
              "저가                                       int32\n",
              "종가                                       int32\n",
              "거래량                                      int32\n",
              "거래대금                                     int64\n",
              "등락률                                    float32\n",
              "Close_mv5                              float32\n",
              "Close_mv10                             float32\n",
              "Close_mv20                             float32\n",
              "OBV                                      int64\n",
              "OBV_EMA                                float32\n",
              "sse_composite_index                    float32\n",
              "csi300_index                           float32\n",
              "usdtocny                               float32\n",
              "eurtousd                               float32\n",
              "msci_emerging                          float32\n",
              "usdtoaud                               float32\n",
              "usdtojpy                               float32\n",
              "usdtokrw                               float32\n",
              "dow                                    float32\n",
              "snp500                                 float32\n",
              "nasdaq                                 float32\n",
              "semicon_index                          float32\n",
              "euro50                                 float32\n",
              "us10y_tsy                              float32\n",
              "fast_k                                 float32\n",
              "fast_d                                 float32\n",
              "시가총액                                     int64\n",
              "slow_k                                 float32\n",
              "slow_d                                 float32\n",
              "유동자산                                     int64\n",
              "현금및현금성자산                                 int64\n",
              "기타유동자산                                   int64\n",
              "비유동자산                                    int64\n",
              "유형자산                                     int64\n",
              "무형자산                                     int64\n",
              "자산총계                                     int64\n",
              "유동부채                                     int64\n",
              "기타유동부채                                   int64\n",
              "비유동부채                                    int64\n",
              "부채총계                                     int64\n",
              "자본금                                      int64\n",
              "자본총계                                     int64\n",
              "금융수익                                     int64\n",
              "무형자산의 취득                                 int64\n",
              "기초자본별도재무제표 [member]                      int64\n",
              "기초자본자본 [member]|자본금 [member]             int64\n",
              "기말자본별도재무제표 [member]                      int64\n",
              "기말자본자본 [member]|자본금 [member]             int64\n",
              "dtype: object"
            ]
          },
          "metadata": {},
          "execution_count": 10
        }
      ]
    },
    {
      "cell_type": "code",
      "source": [
        "pickle.dump(result_try1, open('/content/drive/MyDrive/Colab Notebooks/result0711.pkl', 'wb'))"
      ],
      "metadata": {
        "id": "tSIQMFD7zMk_"
      },
      "execution_count": null,
      "outputs": []
    }
  ]
}